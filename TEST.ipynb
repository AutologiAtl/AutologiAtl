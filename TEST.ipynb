{
 "cells": [
  {
   "cell_type": "code",
   "execution_count": 12,
   "metadata": {},
   "outputs": [
    {
     "name": "stdout",
     "output_type": "stream",
     "text": [
      "Cells containing target words:\n",
      "Sheet: NewSheet, Target Value: CONSIGNEE :, Value to the Right: DEV AUTO SALES  TIN NO: 110162238\n",
      "Sheet: NewSheet, Target Value: NOTIFY PARTY :, Value to the Right: DEVANAND GANGADIN TIN NO: 110162238\n",
      "Sheet: NewSheet, Target Value: FREIGHT :, Value to the Right: COLLECT AS ARRANGED\n"
     ]
    },
    {
     "name": "stderr",
     "output_type": "stream",
     "text": [
      "<>:35: SyntaxWarning: invalid escape sequence '\\e'\n",
      "<>:35: SyntaxWarning: invalid escape sequence '\\e'\n",
      "C:\\Users\\atladmin\\AppData\\Local\\Temp\\2\\ipykernel_1536\\1519178973.py:35: SyntaxWarning: invalid escape sequence '\\e'\n",
      "  excel_file = 'business_logic\\excel_extracter\\Test_Excel_Data_Extr\\output_file.xlsx'\n"
     ]
    }
   ],
   "source": [
    "from openpyxl import load_workbook\n",
    "\n",
    "def get_value_to_right(row, start_index):\n",
    "    for cell_value in row[start_index:]:\n",
    "        if cell_value is not None:\n",
    "            return cell_value\n",
    "    return None\n",
    "\n",
    "def check_target_words_in_excel(excel_file, target_words):\n",
    "    cells_with_target_words = []\n",
    "    \n",
    "    # Load the Excel file\n",
    "    workbook = load_workbook(excel_file)\n",
    "    \n",
    "    # Iterate through all sheets in the workbook\n",
    "    for sheet_name in workbook.sheetnames:\n",
    "        sheet = workbook[sheet_name]\n",
    "        \n",
    "        # Iterate through all cells in the sheet\n",
    "        for row in sheet.iter_rows(values_only=True):\n",
    "            for i, cell_value in enumerate(row):\n",
    "                for word in target_words:\n",
    "                    if ('CONSIGNEE' in str(word).upper() and 'CONSIGNEE' in str(cell_value).upper()) or ('NOTIFY' in str(word).upper() and 'NOTIFY' in str(cell_value).upper()):\n",
    "                        value_to_right = get_value_to_right(row, i + 1)\n",
    "                        cells_with_target_words.append((sheet_name, cell_value, value_to_right))\n",
    "                        break\n",
    "                    elif str(word).upper() in str(cell_value).upper():\n",
    "                        value_to_right = get_value_to_right(row, i + 1)\n",
    "                        cells_with_target_words.append((sheet_name, cell_value, value_to_right))\n",
    "                        break\n",
    "    \n",
    "    return cells_with_target_words\n",
    "\n",
    "# Example usage:\n",
    "excel_file = 'business_logic\\excel_extracter\\Test_Excel_Data_Extr\\output_file.xlsx'\n",
    "target_words = ['CONSIGNEE', 'NOTIFY PARTY','FREIGHT', 'VESSEL', 'SHIPPER']\n",
    "\n",
    "cells_with_target_words = check_target_words_in_excel(excel_file, target_words)\n",
    "\n",
    "if cells_with_target_words:\n",
    "    print(\"Cells containing target words:\")\n",
    "    for cell in cells_with_target_words:\n",
    "        print(f\"Sheet: {cell[0]}, Target Value: {cell[1]}, Value to the Right: {cell[2]}\")\n",
    "else:\n",
    "    print(\"No cells containing target words found in the Excel file.\")\n"
   ]
  },
  {
   "cell_type": "code",
   "execution_count": null,
   "metadata": {},
   "outputs": [],
   "source": []
  }
 ],
 "metadata": {
  "kernelspec": {
   "display_name": "venv",
   "language": "python",
   "name": "python3"
  },
  "language_info": {
   "codemirror_mode": {
    "name": "ipython",
    "version": 3
   },
   "file_extension": ".py",
   "mimetype": "text/x-python",
   "name": "python",
   "nbconvert_exporter": "python",
   "pygments_lexer": "ipython3",
   "version": "3.12.1"
  }
 },
 "nbformat": 4,
 "nbformat_minor": 2
}
